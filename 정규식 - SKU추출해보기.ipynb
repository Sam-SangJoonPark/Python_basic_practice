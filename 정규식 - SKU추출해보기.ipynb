{
 "cells": [
  {
   "cell_type": "code",
   "execution_count": 33,
   "metadata": {},
   "outputs": [],
   "source": [
    "import pandas as pd\n",
    "import os\n",
    "import re"
   ]
  },
  {
   "cell_type": "code",
   "execution_count": 14,
   "metadata": {},
   "outputs": [],
   "source": [
    "# os.chdir('../') \n",
    "os.getcwd()\n",
    "os.chdir('C:\\\\Users\\\\WORK\\\\마이셀럽스')\n",
    "df = pd.read_excel(os.listdir()[2])"
   ]
  },
  {
   "cell_type": "code",
   "execution_count": 77,
   "metadata": {},
   "outputs": [],
   "source": [
    "# tmp_string가지고 조회"
   ]
  },
  {
   "cell_type": "code",
   "execution_count": 108,
   "metadata": {
    "scrolled": false
   },
   "outputs": [
    {
     "name": "stdout",
     "output_type": "stream",
     "text": [
      "m5DAkBW \n",
      "m5XMeBW \n",
      "102\n",
      "mOAR0Pd \n",
      "m2dj6Jd 2dj6\n",
      "mOoyZZ5 \n",
      "106\n",
      "mP5mYm5 5mYm5\n",
      "mr5Z0eO 5Z0\n",
      "m6dR4vW 6dR4\n",
      "110\n",
      "m5xAwjW \n",
      "m5nAkVd \n",
      "m6dR6gd 6dR6\n",
      "mJO1bLd \n",
      "mJO16Vd 16\n",
      "mOlR8n5 8n5\n",
      "mM5rmEd \n",
      "mWpkJw5 \n",
      "mBOkMJ5 \n",
      "mdKv7YO \n",
      "m5NVEE2 5NVEE2\n",
      "m5eJ13W 5eJ13\n",
      "m5NVoR5 5NVoR5\n",
      "mY5QnJW \n",
      "mO0rl15 0rl15\n",
      "mO2N00O 2N0\n",
      "127\n",
      "mW4LkeW \n",
      "m9dB6Pd 9dB6\n",
      "m2djvDd \n",
      "131\n",
      "132\n",
      "md6Y82O 6Y82\n",
      "m5Zo00W 5Zo0\n",
      "m1Ww1qd 1Ww1\n",
      "mYdEa0d \n",
      "m6dRjyd \n",
      "138\n",
      "mOkE1g5 1g5\n",
      "140\n",
      "mO8jDq5 8jDq5\n",
      "mJ5xYgW \n",
      "m5nGp9W 5nGp9\n",
      "mDWv6bW \n",
      "145\n",
      "146\n",
      "mQO8XVO \n",
      "mdE0ebO \n",
      "149\n",
      "m5eM7y5 5eM7y5\n",
      "m5QZ8QW 5QZ8\n",
      "m5333rp 53\n",
      "m5XleN5 5XleN5\n",
      "md6xaaW \n",
      "mLOPBa5 \n",
      "156\n",
      "mNdKPR5 \n",
      "mdj09rW 09\n",
      "m5mGVzO \n",
      "m1WwQjd \n",
      "161\n",
      "162\n",
      "m5mpXAd \n",
      "mOP73PW 73\n",
      "m85XVzO 85\n",
      "mJOV1RW \n",
      "mr5ZlOM \n",
      "168\n",
      "mE5DaBW \n",
      "mWz4Z0d 4Z0\n",
      "mWz4g4d 4g4\n",
      "mOk4vzd \n",
      "mOl46NO 46\n",
      "mWzwo84 84\n",
      "mO2MDxW \n",
      "mmObLL5 \n",
      "mWpmw6O \n",
      "m5eJ9LW 5eJ9\n",
      "m85X0N5 85\n",
      "180\n",
      "181\n",
      "mLOPA7d \n",
      "m6dRGK5 6dRGK5\n",
      "184\n",
      "my5YGwO \n",
      "m15GAnO 15\n",
      "187\n",
      "mO13Xx5 13Xx5\n",
      "189\n",
      "mDWv3rO \n",
      "m5nQ4Dd 5nQ4\n",
      "m85XqAW 85\n",
      "m5Xxqp5 5Xxqp5\n",
      "m5xJqxO \n",
      "mZ5ewKO \n",
      "m9dBgq5 9dBgq5\n",
      "mdEwQ2W \n",
      "mJ5xwgd \n",
      "199\n"
     ]
    }
   ],
   "source": [
    "for i in range(100,200) :\n",
    "    try :\n",
    "        tmp_string = df['watcha_code'][i]\n",
    "\n",
    "        tmp_string\n",
    "\n",
    "        numbers = re.findall(\"\\d\", tmp_string)\n",
    "        numbers\n",
    "\n",
    "        first_num = tmp_string.find(numbers[0])\n",
    "\n",
    "        # find에 인자 주기. 저 위치 부터 조회.\n",
    "        second_num = tmp_string.find(numbers[-1], first_num+1)\n",
    "\n",
    "        # 숫자 처음부터 끝까지 다 가져옴\n",
    "        SKU_predict = tmp_string[first_num : second_num+1]\n",
    "\n",
    "\n",
    "        print(tmp_string , SKU_predict)\n",
    "    except :\n",
    "        # 이거는 그 string에 숫자 없을 경우\n",
    "        \n",
    "        print(i)"
   ]
  },
  {
   "cell_type": "markdown",
   "metadata": {},
   "source": [
    "# 문제 ?\n",
    "\n",
    " - 숫자 ~ 숫자   : 이건 ok\n",
    " - 숫자 ~ 문자   : 어떻게? \n",
    " - 문자 ~ 숫자   : 어떻게?\n",
    " - 문자 ~ 문자   : \n"
   ]
  },
  {
   "cell_type": "code",
   "execution_count": null,
   "metadata": {},
   "outputs": [],
   "source": []
  }
 ],
 "metadata": {
  "kernelspec": {
   "display_name": "Python 3",
   "language": "python",
   "name": "python3"
  },
  "language_info": {
   "codemirror_mode": {
    "name": "ipython",
    "version": 3
   },
   "file_extension": ".py",
   "mimetype": "text/x-python",
   "name": "python",
   "nbconvert_exporter": "python",
   "pygments_lexer": "ipython3",
   "version": "3.7.4"
  }
 },
 "nbformat": 4,
 "nbformat_minor": 2
}
