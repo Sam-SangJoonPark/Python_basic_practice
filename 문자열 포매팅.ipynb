{
 "cells": [
  {
   "cell_type": "markdown",
   "metadata": {},
   "source": [
    "##  1)  %포매팅!"
   ]
  },
  {
   "cell_type": "code",
   "execution_count": 1,
   "metadata": {},
   "outputs": [],
   "source": [
    "lists = [1,2,3,5,2,5,2,4,'가지','나무','배','포독']\n"
   ]
  },
  {
   "cell_type": "code",
   "execution_count": 2,
   "metadata": {},
   "outputs": [
    {
     "name": "stdout",
     "output_type": "stream",
     "text": [
      "My name is 1 \n",
      "My name is 2 \n",
      "My name is 3 \n",
      "My name is 5 \n",
      "My name is 2 \n",
      "My name is 5 \n",
      "My name is 2 \n",
      "My name is 4 \n",
      "My name is 가지 \n",
      "My name is 나무 \n",
      "My name is 배 \n",
      "My name is 포독 \n"
     ]
    }
   ],
   "source": [
    "for i in lists :\n",
    "    my_str = \"My name is %s \" % i\n",
    "    print(my_str)"
   ]
  },
  {
   "cell_type": "code",
   "execution_count": 3,
   "metadata": {},
   "outputs": [
    {
     "name": "stdout",
     "output_type": "stream",
     "text": [
      "입력해라우 1\n",
      "입력해라우 포도\n",
      "입력해라우 감자\n",
      "입력해라우 배\n",
      "입력해라우 과일\n",
      "입력해라우 옥수수\n",
      "입력해라우 키위\n",
      "입력해라우 메론\n",
      "입력해라우 ㅇㅇ\n",
      "입력해라우 ㅋ\n"
     ]
    }
   ],
   "source": [
    "sr_list = []\n",
    "for i in range(10) :\n",
    "    sr = input('입력해라우 ')\n",
    "    sr_list.append(sr)"
   ]
  },
  {
   "cell_type": "code",
   "execution_count": 5,
   "metadata": {},
   "outputs": [
    {
     "name": "stdout",
     "output_type": "stream",
     "text": [
      "My fruit is 1  is my_fruit check it \n",
      "My fruit is 포도  is my_fruit check it \n",
      "My fruit is 감자  is my_fruit check it \n",
      "My fruit is 배  is my_fruit check it \n",
      "My fruit is 과일  is my_fruit check it \n",
      "My fruit is 옥수수  is my_fruit check it \n",
      "My fruit is 키위  is my_fruit check it \n",
      "My fruit is 메론  is my_fruit check it \n",
      "My fruit is ㅇㅇ  is my_fruit check it \n",
      "My fruit is ㅋ  is my_fruit check it \n"
     ]
    }
   ],
   "source": [
    "for fruit in sr_list :\n",
    "    my_fruit = \"My fruit is %s \" % fruit\n",
    "    print(my_fruit , 'is my_fruit check it ')"
   ]
  },
  {
   "cell_type": "code",
   "execution_count": 25,
   "metadata": {},
   "outputs": [
    {
     "name": "stdout",
     "output_type": "stream",
     "text": [
      "숫자 입력 1\n",
      "숫자 입력 4\n",
      "숫자 입력 3\n",
      "숫자 입력 8\n",
      "숫자 입력 56\n",
      "숫자 입력 235\n",
      "숫자 입력 6798\n",
      "숫자 입력 234\n",
      "숫자 입력 584\n",
      "숫자 입력 234\n"
     ]
    }
   ],
   "source": [
    "num_list = []\n",
    "for i in range(10) :\n",
    "    num = int(input(\"숫자 입력 \"))\n",
    "    num_list.append(num) \n",
    "    "
   ]
  },
  {
   "cell_type": "code",
   "execution_count": 32,
   "metadata": {},
   "outputs": [
    {
     "name": "stdout",
     "output_type": "stream",
     "text": [
      "I want to eat 1 3 -1\n",
      "I want to eat 4 6 2\n",
      "I want to eat 3 5 1\n",
      "I want to eat 8 10 6\n",
      "I want to eat 56 58 54\n",
      "I want to eat 235 237 233\n",
      "I want to eat 6798 6800 6796\n",
      "I want to eat 234 236 232\n",
      "I want to eat 584 586 582\n",
      "I want to eat 234 236 232\n"
     ]
    }
   ],
   "source": [
    "for number in num_list :\n",
    "    my_str = \"I want to eat %d %d %d\" %(number, number+2, number-2)\n",
    "    print(my_str)"
   ]
  },
  {
   "cell_type": "code",
   "execution_count": null,
   "metadata": {},
   "outputs": [],
   "source": []
  },
  {
   "cell_type": "markdown",
   "metadata": {},
   "source": [
    "## 2) { } 포매팅 "
   ]
  },
  {
   "cell_type": "code",
   "execution_count": 50,
   "metadata": {},
   "outputs": [
    {
     "data": {
      "text/plain": [
       "'My name is 박상준'"
      ]
     },
     "execution_count": 50,
     "metadata": {},
     "output_type": "execute_result"
    }
   ],
   "source": [
    "# 이런 방식\n",
    "\"My name is {}\".format('박상준')"
   ]
  },
  {
   "cell_type": "code",
   "execution_count": 51,
   "metadata": {},
   "outputs": [
    {
     "data": {
      "text/plain": [
       "'2 + 3 - 5 = '"
      ]
     },
     "execution_count": 51,
     "metadata": {},
     "output_type": "execute_result"
    }
   ],
   "source": [
    "'{} + {} - {} = '.format(2,3,5)"
   ]
  },
  {
   "cell_type": "code",
   "execution_count": 52,
   "metadata": {},
   "outputs": [
    {
     "data": {
      "text/plain": [
       "'2 + 3 - 5 = 0'"
      ]
     },
     "execution_count": 52,
     "metadata": {},
     "output_type": "execute_result"
    }
   ],
   "source": [
    "# 이렇게도 됨\n",
    "'{} + {} - {} = %d'.format(2,3,5) % 0"
   ]
  },
  {
   "cell_type": "markdown",
   "metadata": {},
   "source": [
    "## 3) f를 이용한 방법 -   f-Strings"
   ]
  },
  {
   "cell_type": "code",
   "execution_count": 56,
   "metadata": {},
   "outputs": [
    {
     "data": {
      "text/plain": [
       "'Hello,노트북. You are 10.'"
      ]
     },
     "execution_count": 56,
     "metadata": {},
     "output_type": "execute_result"
    }
   ],
   "source": [
    "name = '노트북'\n",
    "year = 10\n",
    "# 앞에 f를 입력함!\n",
    "f\"Hello,{name}. You are {year}.\""
   ]
  },
  {
   "cell_type": "code",
   "execution_count": 60,
   "metadata": {},
   "outputs": [
    {
     "data": {
      "text/plain": [
       "'hiroo, 46'"
      ]
     },
     "execution_count": 60,
     "metadata": {},
     "output_type": "execute_result"
    }
   ],
   "source": [
    "# ex \n",
    "f\"hiroo, {22+24}\""
   ]
  },
  {
   "cell_type": "code",
   "execution_count": null,
   "metadata": {},
   "outputs": [],
   "source": []
  },
  {
   "cell_type": "code",
   "execution_count": null,
   "metadata": {},
   "outputs": [],
   "source": []
  },
  {
   "cell_type": "code",
   "execution_count": null,
   "metadata": {},
   "outputs": [],
   "source": []
  }
 ],
 "metadata": {
  "kernelspec": {
   "display_name": "Python 3",
   "language": "python",
   "name": "python3"
  },
  "language_info": {
   "codemirror_mode": {
    "name": "ipython",
    "version": 3
   },
   "file_extension": ".py",
   "mimetype": "text/x-python",
   "name": "python",
   "nbconvert_exporter": "python",
   "pygments_lexer": "ipython3",
   "version": "3.7.6"
  }
 },
 "nbformat": 4,
 "nbformat_minor": 4
}
