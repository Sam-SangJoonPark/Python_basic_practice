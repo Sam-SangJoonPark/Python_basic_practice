{
 "cells": [
  {
   "cell_type": "markdown",
   "metadata": {},
   "source": [
    "아래 정보에서\n",
    "뒷자리 7자리\n",
    "800905-***로 만들어 출력하라\n",
    "\n",
    "(정규식 안쓰고 알고리즘으로 split(), for, if 처리)\n",
    "\n",
    "\n",
    "\n"
   ]
  },
  {
   "cell_type": "code",
   "execution_count": 32,
   "metadata": {},
   "outputs": [
    {
     "data": {
      "text/plain": [
       "'park 800905-1049118\\nkim 700905-1059119\\njang 920625-2049307'"
      ]
     },
     "execution_count": 32,
     "metadata": {},
     "output_type": "execute_result"
    }
   ],
   "source": [
    "data = \"\"\"park 800905-1049118\n",
    "kim 700905-1059119\n",
    "jang 920625-2049307\"\"\"\n",
    "data"
   ]
  },
  {
   "cell_type": "code",
   "execution_count": 100,
   "metadata": {},
   "outputs": [
    {
     "name": "stdout",
     "output_type": "stream",
     "text": [
      "800905-*******\n",
      "700905-*******\n",
      "920625-*******\n"
     ]
    }
   ],
   "source": [
    "# 선생님의 풀이 #\n",
    "\n",
    "result = []\n",
    "for line in data.split('\\n') :\n",
    "    word_result = []\n",
    "    for word in line.split(\" \") :\n",
    "        if len(word) == 14 and word[:6].isdigit() and word[7:].isdigit() :\n",
    "            word = word[:6] + '-' + \"*******\"\n",
    "            word_result.append(word)\n",
    "    result.append(\" \".join(word_result))\n",
    "\n",
    "print(\"\\n\".join(result))\n"
   ]
  },
  {
   "cell_type": "code",
   "execution_count": 107,
   "metadata": {},
   "outputs": [
    {
     "data": {
      "text/plain": [
       "'\\npark 800905-*******\\nkim 700905-*******\\njang 920625-*******\\n'"
      ]
     },
     "execution_count": 107,
     "metadata": {},
     "output_type": "execute_result"
    }
   ],
   "source": [
    "import re\n",
    "data = \"\"\"\n",
    "park 800905-1049118\n",
    "kim 700905-1059119\n",
    "jang 920625-2049307\n",
    "\"\"\"\n",
    "\n",
    "\n",
    "pattern = re.compile(\"(\\d{6})[-]\\d{7}\")\n",
    "pattern\n",
    "\n",
    "result = pattern.sub(\"\\g<1>-*******\",data)    #앞에껀 놔두고, 뒤에껀 ***로 할거다! 라는 것.\n",
    "result\n",
    "\n",
    "# result.split()   뭐 이런 식으로 ! "
   ]
  },
  {
   "cell_type": "code",
   "execution_count": null,
   "metadata": {},
   "outputs": [],
   "source": []
  },
  {
   "cell_type": "code",
   "execution_count": null,
   "metadata": {},
   "outputs": [],
   "source": []
  },
  {
   "cell_type": "code",
   "execution_count": null,
   "metadata": {},
   "outputs": [],
   "source": []
  },
  {
   "cell_type": "code",
   "execution_count": null,
   "metadata": {},
   "outputs": [],
   "source": []
  },
  {
   "cell_type": "code",
   "execution_count": null,
   "metadata": {},
   "outputs": [],
   "source": []
  },
  {
   "cell_type": "code",
   "execution_count": 97,
   "metadata": {},
   "outputs": [
    {
     "name": "stdout",
     "output_type": "stream",
     "text": [
      "800905-*******\n",
      "700905-*******\n",
      "920625-*******\n"
     ]
    }
   ],
   "source": [
    "a = data.split('\\n')\n",
    "\n",
    "for i in a :\n",
    "    z = i.split(' ')\n",
    "    k = z[1]\n",
    "    y = k[0:6] + '-' + '*******'\n",
    "    print(y)\n",
    "    \n",
    "    \n",
    "    \n",
    "    \n",
    "    \n",
    "    \n",
    "   "
   ]
  },
  {
   "cell_type": "code",
   "execution_count": null,
   "metadata": {},
   "outputs": [],
   "source": []
  },
  {
   "cell_type": "code",
   "execution_count": null,
   "metadata": {},
   "outputs": [],
   "source": []
  },
  {
   "cell_type": "code",
   "execution_count": null,
   "metadata": {},
   "outputs": [],
   "source": []
  },
  {
   "cell_type": "code",
   "execution_count": null,
   "metadata": {},
   "outputs": [],
   "source": []
  },
  {
   "cell_type": "code",
   "execution_count": null,
   "metadata": {},
   "outputs": [],
   "source": []
  },
  {
   "cell_type": "code",
   "execution_count": null,
   "metadata": {},
   "outputs": [],
   "source": []
  },
  {
   "cell_type": "code",
   "execution_count": null,
   "metadata": {},
   "outputs": [],
   "source": []
  },
  {
   "cell_type": "code",
   "execution_count": null,
   "metadata": {},
   "outputs": [],
   "source": []
  },
  {
   "cell_type": "code",
   "execution_count": null,
   "metadata": {},
   "outputs": [],
   "source": []
  },
  {
   "cell_type": "code",
   "execution_count": null,
   "metadata": {},
   "outputs": [],
   "source": []
  }
 ],
 "metadata": {
  "kernelspec": {
   "display_name": "Python 3",
   "language": "python",
   "name": "python3"
  },
  "language_info": {
   "codemirror_mode": {
    "name": "ipython",
    "version": 3
   },
   "file_extension": ".py",
   "mimetype": "text/x-python",
   "name": "python",
   "nbconvert_exporter": "python",
   "pygments_lexer": "ipython3",
   "version": "3.8.3"
  }
 },
 "nbformat": 4,
 "nbformat_minor": 4
}
